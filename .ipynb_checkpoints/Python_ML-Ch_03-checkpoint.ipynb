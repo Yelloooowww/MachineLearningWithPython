{
 "cells": [
  {
   "cell_type": "markdown",
   "metadata": {},
   "source": [
    "# PART I   < Python程式設計 >\n",
    "# 3. 流程控制與資料結構\n",
    "- [3.1 流程控制](#流程控制)\n",
    "- [3.2 資料結構](#資料結構)"
   ]
  },
  {
   "cell_type": "code",
   "execution_count": null,
   "metadata": {},
   "outputs": [],
   "source": []
  },
  {
   "cell_type": "markdown",
   "metadata": {},
   "source": [
    "<a id='流程控制'></a>\n",
    "## 3.1  流程控制\n",
    "- [if, if...else..., elif 敘述](#if, if...else..., elif 敘述)\n",
    "- [while 敘述](#while 敘述)\n",
    "- [for 敘述](#for 敘述)\n",
    "- [for ... else ... with break / continue](#for ... else ...)"
   ]
  },
  {
   "cell_type": "markdown",
   "metadata": {},
   "source": [
    "<a id='if,if...else...,elif敘述'></a>\n",
    "### if, if...else..., elif 敘述"
   ]
  },
  {
   "cell_type": "code",
   "execution_count": null,
   "metadata": {
    "scrolled": true
   },
   "outputs": [],
   "source": [
    "x = float(input(\"Please enter a number: \"))"
   ]
  },
  {
   "cell_type": "code",
   "execution_count": null,
   "metadata": {},
   "outputs": [],
   "source": [
    "x"
   ]
  },
  {
   "cell_type": "code",
   "execution_count": null,
   "metadata": {},
   "outputs": [],
   "source": [
    "if x < 0:\n",
    "    print(x,'is less than zero !')\n",
    "elif x == 0:\n",
    "    print('0')\n",
    "elif x == 1:\n",
    "    print('1')\n",
    "else:\n",
    "    print(x,' > 0')"
   ]
  },
  {
   "cell_type": "markdown",
   "metadata": {},
   "source": [
    "- 關鍵字 elif 是 else if 縮寫，同時可以避免過多的縮排 (indentation)。\n",
    "- if ... elif ... elif ... 用法取代了了其他程式語言中的 switch 和 case 敘述語法。"
   ]
  },
  {
   "cell_type": "markdown",
   "metadata": {},
   "source": [
    "<a id='while 敘述'></a>\n",
    "### while 敘述"
   ]
  },
  {
   "cell_type": "markdown",
   "metadata": {},
   "source": [
    "#### [Example 3.1.1] 執行下列程式，計算 最⼤公因數(GCD) 和 費氏數列(Fibonacci numbers)："
   ]
  },
  {
   "cell_type": "code",
   "execution_count": null,
   "metadata": {},
   "outputs": [],
   "source": [
    "# GCD: greatest common divisor\n",
    "a = int(input(\"Please enter a number: a=\"))\n",
    "b = int(input(\"Please enter a number: b=\"))\n",
    "# (a, b) = (17, 144)\n",
    "while a != 0:\n",
    "    print(' a =\\t', a,'\\t b =\\t',b)\n",
    "    a, b = b % a, a\n",
    "print(\" GCD = \", b)\n",
    "\n",
    "# Fibonacci series: F(i) = F(i-1) + F(i+1)\n",
    "a, b = 0, 1\n",
    "print('\\nFibonacci numbers = ', end=' ')\n",
    "while b < 50:\n",
    "    print(b, end=' ')\n",
    "    a, b = b, a+b"
   ]
  },
  {
   "cell_type": "markdown",
   "metadata": {},
   "source": [
    "####  < EXERCISE > :\n",
    "#### 請修改上列程式，使其可以任意輸入 a 和 b 二數值，計算 GCD 和 費氏數列。"
   ]
  },
  {
   "cell_type": "markdown",
   "metadata": {},
   "source": [
    "<a id='for 敘述'></a>\n",
    "### for 敘述"
   ]
  },
  {
   "cell_type": "markdown",
   "metadata": {},
   "source": [
    "#### [ Example 3.1.2] 執⾏下列程式，分別輸出 (1)字串中的字母, (2)陣列中的元素, (3)計算字串長度."
   ]
  },
  {
   "cell_type": "code",
   "execution_count": null,
   "metadata": {},
   "outputs": [],
   "source": [
    "## (1) Using the for-loop to print letters out of a string...\n",
    "print(\"\\n>> Print letters out of a string : 'Python 2.6.3'\") \n",
    "i=0\n",
    "for alpha in 'Python 2.6.3':\n",
    "    i=i+1\n",
    "    print(' 第 ', i, ' 個字⺟ :', alpha)\n",
    "\n",
    "    \n",
    "## (2) Using the for-loop to print the elements from an array...\n",
    "print(\"\\n>> Print the elements from an array...\")\n",
    "languages = ['⿑天⼤聖', '孫悟空', '花果山水簾洞','~~~~~~~我是中文字~~~~~~']\n",
    "for language in languages:\n",
    "   print (' Language Version :', language)\n",
    "\n",
    "\n",
    "## (3) Measuring a string length...\n",
    "print(\"\\n>> Print a string length...\")\n",
    "for count in languages:\n",
    "    print(count, '\\t length =', len(count))"
   ]
  },
  {
   "cell_type": "markdown",
   "metadata": {},
   "source": [
    "####  < EXERCISE > :\n",
    "請修改上列程式，使其可以分別輸出:\n",
    "- (1) 中⽂字串中的⽂字 (例如:'第 10 個字母 : 6' ),\n",
    "- (2) 陣列:['⿑天⼤聖', '孫悟空', '花果山水簾洞'] 中的元素, \n",
    "- (3) 計算上述陣列中，各字串元素的長度。"
   ]
  },
  {
   "cell_type": "markdown",
   "metadata": {},
   "source": [
    "#### [ Example 3.1.3]  執⾏下列程式,複製陣列中某些字串元素,並插入至所有元素之前"
   ]
  },
  {
   "cell_type": "code",
   "execution_count": null,
   "metadata": {},
   "outputs": [],
   "source": [
    "## Duplicating & Inserting elements in an array...\n",
    "fruits = ['apple', 'mango', 'watermelon', 'banana', 'pineapple']\n",
    "print('\\n fruits (before) =', fruits)\n",
    "x=fruits[:]\n",
    "for f in x:  # Loop over a slice copy of the entire list.\n",
    "    if (len(f) <= 6) or (len(f) > 9): # 與下⼀一⾏行行敘述相同，差異異在括號\n",
    "#       if len(f) <= 8 and len(f) >= 5:\n",
    "            fruits.insert(4, f)\n",
    "print('\\n f =', f)\n",
    "print('\\n fruits (after) =', fruits)"
   ]
  },
  {
   "cell_type": "markdown",
   "metadata": {},
   "source": [
    "####  < EXERCISE >  請修改 [ Example 3.1.3] 程式，使其可以分別依照下列⽅式輸出:\n",
    "- (1) 插入⾄原來陣列元素 banana 和 pineapple 之間, \n",
    "- (2) 設定欲複製的字串串元素長度為 len(f) <= 6 或 > 9。\n",
    "\n",
    "[ 提⽰ ] : (2) 可以⽤運算元 or 或 |"
   ]
  },
  {
   "cell_type": "markdown",
   "metadata": {},
   "source": [
    "### `range()` 函數 "
   ]
  },
  {
   "cell_type": "code",
   "execution_count": null,
   "metadata": {},
   "outputs": [],
   "source": [
    "for i in range(2, 10,2):     # same as range(2, 10, 1)\n",
    "    print(i, end=' ')      # => 2 3 4 5 6 7 8 9"
   ]
  },
  {
   "cell_type": "code",
   "execution_count": null,
   "metadata": {},
   "outputs": [],
   "source": [
    "print(range(5))      # Only show =>  range(0, 5)"
   ]
  },
  {
   "cell_type": "code",
   "execution_count": null,
   "metadata": {},
   "outputs": [],
   "source": [
    "list(range(5))   # OUTPUT => [0, 1, 2, 3, 4]"
   ]
  },
  {
   "cell_type": "markdown",
   "metadata": {},
   "source": [
    "#### Q : `range(-15, 25, 3)` 和 `range(-15, -25, -3)` 的範圍分別為何?"
   ]
  },
  {
   "cell_type": "code",
   "execution_count": null,
   "metadata": {},
   "outputs": [],
   "source": [
    "list(range(-15,-25,-3))"
   ]
  },
  {
   "cell_type": "markdown",
   "metadata": {},
   "source": [
    "#### [ Example 3.1.4 ] : range() 函數 與 for loop"
   ]
  },
  {
   "cell_type": "code",
   "execution_count": null,
   "metadata": {},
   "outputs": [],
   "source": [
    "## Calculating0+1+2+3+4= 10 # Example Code - 1\n",
    "s=0\n",
    "n=5\n",
    "for i in range(n): \n",
    "    s=s+i\n",
    "    print(i, end='')\n",
    "    if i < (n-1): print(end=' + ')\n",
    "print(' = ', s)\n",
    "\n",
    "# Example Code - 2\n",
    "print(' sum(range(5)) = ', sum(range(5)), end='\\n\\n')\n",
    "\n",
    "##  Using len() function\n",
    "notes = ['ti', 'do', 're', 'mi', 'fa', 'sol', 'la']\n",
    "for i in range(len(notes)):\n",
    "        print('notes[', i, '] : ', notes[i])"
   ]
  },
  {
   "cell_type": "markdown",
   "metadata": {},
   "source": [
    "<a id='for ... else ...'></a>\n",
    "### for ... else ... with break / continue 敘述"
   ]
  },
  {
   "cell_type": "markdown",
   "metadata": {},
   "source": [
    "#### [ Example 3.1.5 ] : 執⾏下列程式 - 搜尋質數 (prime number)"
   ]
  },
  {
   "cell_type": "code",
   "execution_count": null,
   "metadata": {},
   "outputs": [],
   "source": [
    "##  Finding the prime numbers less than 20...\n",
    "for n in range(2, 20):\n",
    "#     print('!!!!!!!!!!!!!!!!!!!!!!!!!!n=',n)\n",
    "    for x in range(2, n):\n",
    "#         print('~~~~~~~~~~~~~~~~~~~~~~~~~~~x=',x)\n",
    "        if n % x == 0:\n",
    "#             print(n, 'equals', x, '*', n//x, end=' ') \n",
    "            break\n",
    "    else:\n",
    "        # loop fell through without finding a factor \n",
    "        print(n, 'is a prime number !')\n",
    "        continue\n",
    "    print(' >> ', n, 'is not a prime number.')"
   ]
  },
  {
   "cell_type": "markdown",
   "metadata": {},
   "source": [
    "<a id='資料結構'></a>\n",
    "## 3.2  資料結構\n",
    "- [Lists (列表)](#Lists (列表)\n",
    "- [List Comprehension (列表精簡)](#List Comprehension (列表精簡)\n",
    "- [Basic Sequence Types — list, tuple, range](#Basic Sequence Types — list, tuple, range)\n",
    "- [Tuples (元組)](#Tuples (元組))\n",
    "- [Text Sequence Type (⽂字序列資料型別) — str](#Text Sequence Type (⽂字序列資料型別)\n",
    "- [Sets (集合)](#Sets (集合)\n",
    "- [Dictionaries (字典)](#Dictionaries (字典)\n",
    "\n",
    "### Ref :  C. Alex Hu, \"Data Structures with Python\", 2018/2/22."
   ]
  },
  {
   "cell_type": "code",
   "execution_count": null,
   "metadata": {},
   "outputs": [],
   "source": [
    "listNumbers = [ 1, 2, 3, 4, 5, 6, 7, 8, 9, 0]\n",
    "listLetters = ['A', 'b', 'C', 'd', 'E']\n",
    "listConstants = [ 1.41421, 3.14159, 2.71828]\n",
    "list0 = listNumbers #Renaming in the local symbol table\n",
    "list0 # [1, 2, 3, 4, 5, 6, 7, 8, 9, 0]\n",
    "list0.append('a')\n",
    "list0 # [1, 2, 3, 4, 5, 6, 7, 8, 9, 0, 'a']\n",
    "list1 = None\n",
    "list1 # 注意：沒有輸出結果\n",
    "list1.append(list0)"
   ]
  },
  {
   "cell_type": "code",
   "execution_count": null,
   "metadata": {},
   "outputs": [],
   "source": [
    "listNumbers"
   ]
  },
  {
   "cell_type": "code",
   "execution_count": null,
   "metadata": {},
   "outputs": [],
   "source": [
    "listNumbers = [ 1, 2, 3, 4, 5, 6, 7, 8, 9, 0]\n",
    "listLetters = ['A', 'b', 'C', 'd', 'E']\n",
    "listConstants = [ 1.41421, 3.14159, 2.71828]\n",
    "list0 = []\n",
    "## [extend() 的⽤用法]\n",
    "list0 = listLetters\n",
    "list0 # ['A', 'b', 'C', 'd', 'E']\n",
    "list0.extend(listNumbers[2:5])\n",
    "list0 # ['A', 'b', 'C', 'd', 'E', 3, 4, 5]\n",
    "## But… listLetters 原始資料被更更改！ WHY ???\n",
    "listLetters # ['A', 'b', 'C', 'd', 'E', 3, 4, 5] What happened?\n",
    "# list0.append(1000.0)\n",
    "# list0 # ['A', 'b', 'C', 'd', 'E', 3, 4, 5, 1000.0]\n",
    "# listLetters # ['A', 'b', 'C', 'd', 'E', 3, 4, 5, 1000.0] ???\n",
    "# listNumbers # [1, 2, 3, 4, 5, 6, 7, 8, 9, 0] OK!"
   ]
  },
  {
   "cell_type": "code",
   "execution_count": 2,
   "metadata": {},
   "outputs": [
    {
     "data": {
      "text/plain": [
       "['Fly', 'robin', 'fly', 'Up', 'up', 'to', 'the', 'sky']"
      ]
     },
     "execution_count": 2,
     "metadata": {},
     "output_type": "execute_result"
    }
   ],
   "source": [
    "words = ['Fly', 'robin', 'fly', 'Up', 'up', 'to', 'the', 'sky']\n",
    "words.index('up')\n",
    "w = []\n",
    "w.extend(words[0:3])\n",
    "w\n",
    "['Fly', 'robin', 'fly']\n",
    "words.insert(3,w)\n",
    "words\n",
    "# ['Fly', 'robin', 'fly', ['Fly', 'robin', 'fly'], 'Up', 'up', 'to', 'the', 'sky']\n",
    "words.remove(w)\n",
    "words\n",
    "# ['Fly', 'robin', 'fly', 'Up', 'up', 'to', 'the', 'sky']\n",
    "# words.insert(3,'Fly')\n",
    "# words\n",
    "# ['Fly', 'robin', 'fly', 'Fly', 'Up', 'up', 'to', 'the', ‘sky']\n",
    "# del words[3] # del function\n",
    "# words"
   ]
  },
  {
   "cell_type": "code",
   "execution_count": 8,
   "metadata": {},
   "outputs": [
    {
     "data": {
      "text/plain": [
       "['Fly', 'robin', 'fly', 'Fly', 'robin', 'fly', 'Up', 'up', 'to', 'the', 'sky']"
      ]
     },
     "execution_count": 8,
     "metadata": {},
     "output_type": "execute_result"
    }
   ],
   "source": [
    "words = ['Fly', 'robin', 'fly', 'Up', 'up', 'to', 'the', 'sky']\n",
    "w = []\n",
    "w.extend(words[0:3])\n",
    "w.extend(words[:])\n",
    "words=w\n",
    "words"
   ]
  },
  {
   "cell_type": "code",
   "execution_count": 9,
   "metadata": {},
   "outputs": [],
   "source": [
    "def Stack_LIFO(prompt=' Push to Stack (type null if done): '):\n",
    "    stack = []\n",
    "    while True:\n",
    "        top = input(prompt)\n",
    "        if top in ('n', 'nu', 'nul', 'null'):\n",
    "            break\n",
    "        else:\n",
    "            stack.append(top)\n",
    "    print('\\n Within Stack: ', stack, end='\\n\\n')\n",
    "    print(' <<< Pop the Stack --> LIFO : Last-In-First-Out ')\n",
    "    num=len(stack)\n",
    "    for top in range(num): # Could we use \"for top in stack:\" instead?\n",
    "        print(' pop Stack : ', stack.pop())\n",
    "    print('\\n ******* Stack = ', stack)"
   ]
  },
  {
   "cell_type": "code",
   "execution_count": 10,
   "metadata": {},
   "outputs": [
    {
     "name": "stdout",
     "output_type": "stream",
     "text": [
      " Push to Stack (type null if done): a\n",
      " Push to Stack (type null if done): b\n",
      " Push to Stack (type null if done): c\n",
      " Push to Stack (type null if done): d\n",
      " Push to Stack (type null if done): e\n",
      " Push to Stack (type null if done): n\n",
      "\n",
      " Within Stack:  ['a', 'b', 'c', 'd', 'e']\n",
      "\n",
      " <<< Pop the Stack --> LIFO : Last-In-First-Out \n",
      " pop Stack :  e\n",
      " pop Stack :  d\n",
      " pop Stack :  c\n",
      " pop Stack :  b\n",
      " pop Stack :  a\n",
      "\n",
      " ******* Stack =  []\n"
     ]
    }
   ],
   "source": [
    "Stack_LIFO()"
   ]
  },
  {
   "cell_type": "code",
   "execution_count": 11,
   "metadata": {},
   "outputs": [],
   "source": [
    "def Queue_FIFO(prompt=' Push to Queue (type null if done): '):\n",
    "    queue = []\n",
    "    while True:\n",
    "        top = input(prompt)\n",
    "        if top in ('n', 'nu', 'nul', 'null'):\n",
    "            break\n",
    "        else:\n",
    "            queue.append(top)\n",
    "    print('\\n Within Queue: ', queue, end='\\n\\n')\n",
    "    print(' <<< Pop the Stack --> LIFO : Last-In-First-Out ')\n",
    "    for top in queue[:]: # Could we use \"for top in stack:\" instead?\n",
    "        print(' pop(0) Queue : ', queue.pop(0))\n",
    "    print('\\n ******* Queue = ',queue)"
   ]
  },
  {
   "cell_type": "code",
   "execution_count": 12,
   "metadata": {},
   "outputs": [
    {
     "name": "stdout",
     "output_type": "stream",
     "text": [
      " Push to Queue (type null if done): a\n",
      " Push to Queue (type null if done): b\n",
      " Push to Queue (type null if done): c\n",
      " Push to Queue (type null if done): d\n",
      " Push to Queue (type null if done): e\n",
      " Push to Queue (type null if done): n\n",
      "\n",
      " Within Queue:  ['a', 'b', 'c', 'd', 'e']\n",
      "\n",
      " <<< Pop the Stack --> LIFO : Last-In-First-Out \n",
      " pop(0) Queue :  a\n",
      " pop(0) Queue :  b\n",
      " pop(0) Queue :  c\n",
      " pop(0) Queue :  d\n",
      " pop(0) Queue :  e\n",
      "\n",
      " ******* Queue =  []\n"
     ]
    }
   ],
   "source": [
    "Queue_FIFO()"
   ]
  },
  {
   "cell_type": "code",
   "execution_count": 13,
   "metadata": {},
   "outputs": [],
   "source": [
    "def list_Compreh():\n",
    "    A = [2*n+1 for n in range(1,10)]\n",
    "    B = [x**2 for x in A if x < 12]\n",
    "    print(A) # [3, 5, 7, 9, 11, 13, 15, 17, 19]\n",
    "    print(B) # [9, 25, 49, 81, 121]"
   ]
  },
  {
   "cell_type": "code",
   "execution_count": 14,
   "metadata": {},
   "outputs": [
    {
     "name": "stdout",
     "output_type": "stream",
     "text": [
      "[3, 5, 7, 9, 11, 13, 15, 17, 19]\n",
      "[9, 25, 49, 81, 121]\n"
     ]
    }
   ],
   "source": [
    "list_Compreh()"
   ]
  },
  {
   "cell_type": "code",
   "execution_count": 15,
   "metadata": {},
   "outputs": [
    {
     "name": "stdout",
     "output_type": "stream",
     "text": [
      "[('Apple', 'Google'), ('Apple', 'Microsoft'), ('Android', 'Google'), ('Android', 'Apple'), ('Android', 'Microsoft'), ('Asus', 'Google'), ('Asus', 'Apple'), ('Asus', 'Microsoft')]\n"
     ]
    }
   ],
   "source": [
    "C=[(i,j) for i in ['Apple', 'Android', 'Asus'] for j in ['Google','Apple', 'Microsoft'] if i != j]\n",
    "print(C)"
   ]
  },
  {
   "cell_type": "code",
   "execution_count": 16,
   "metadata": {},
   "outputs": [
    {
     "data": {
      "text/plain": [
       "['2.7', '2.72', '2.718', '2.7183', '2.71828']"
      ]
     },
     "execution_count": 16,
     "metadata": {},
     "output_type": "execute_result"
    }
   ],
   "source": [
    "from math import exp\n",
    "[str(round(exp(1), i)) for i in range(1, 6)]"
   ]
  },
  {
   "cell_type": "code",
   "execution_count": 23,
   "metadata": {},
   "outputs": [
    {
     "data": {
      "text/plain": [
       "[314.2, 314.16, 314.159, 314.1593, 314.15927]"
      ]
     },
     "execution_count": 23,
     "metadata": {},
     "output_type": "execute_result"
    }
   ],
   "source": [
    "from math import pi\n",
    "# print(pi)\n",
    "[float(round(pi*10**2, i)) for i in range(1, 6)]"
   ]
  },
  {
   "cell_type": "code",
   "execution_count": 29,
   "metadata": {
    "scrolled": true
   },
   "outputs": [
    {
     "data": {
      "text/plain": [
       "[(1, 4, 2.5),\n",
       " (1, 2, 1.5),\n",
       " (3, 4, 3.5),\n",
       " (3, 1, 2.0),\n",
       " (3, 2, 2.5),\n",
       " (5, 4, 4.5),\n",
       " (5, 1, 3.0),\n",
       " (5, 2, 3.5)]"
      ]
     },
     "execution_count": 29,
     "metadata": {},
     "output_type": "execute_result"
    }
   ],
   "source": [
    "pairs=[(i,j,(i+j)/2) for i in [1,3,5] for j in [4,1,2] if i!=j]\n",
    "pairs"
   ]
  },
  {
   "cell_type": "code",
   "execution_count": 31,
   "metadata": {},
   "outputs": [
    {
     "name": "stdout",
     "output_type": "stream",
     "text": [
      "[2, 3, 5, 7, 11, 13, 17, 19, 23, 29, 31, 37, 41, 43, 47, 53, 59, 61, 67, 71, 73, 79, 83, 89, 97]\n"
     ]
    }
   ],
   "source": [
    "p=[x for x in range(2, 100) if x not in (j for i in range(2, 11) for j in range(i*2, 100, i))]\n",
    "print(p)"
   ]
  },
  {
   "cell_type": "code",
   "execution_count": 49,
   "metadata": {},
   "outputs": [],
   "source": [
    "def prime_number():\n",
    "    p=[]\n",
    "    for x in range(2, 100):\n",
    "#         for i in range(2, 11):\n",
    "#             for j in range(i*2, 100, i):\n",
    "#                 if  x!=j:\n",
    "#                     print(x)\n",
    "#                     p.append(x)\n",
    "        if x not in (j for i in range(2, 11) for j in range(i*2, 100, i)):\n",
    "            p.append(x)\n",
    "    print(p)"
   ]
  },
  {
   "cell_type": "code",
   "execution_count": 50,
   "metadata": {},
   "outputs": [
    {
     "name": "stdout",
     "output_type": "stream",
     "text": [
      "[2, 3, 5, 7, 11, 13, 17, 19, 23, 29, 31, 37, 41, 43, 47, 53, 59, 61, 67, 71, 73, 79, 83, 89, 97]\n"
     ]
    }
   ],
   "source": [
    "prime_number()"
   ]
  },
  {
   "cell_type": "code",
   "execution_count": null,
   "metadata": {},
   "outputs": [],
   "source": [
    "n=20\n",
    "def prime_number():\n",
    "    p=[]\n",
    "    for i in range(n):\n",
    "        p.append(n)\n",
    "        "
   ]
  },
  {
   "cell_type": "code",
   "execution_count": 7,
   "metadata": {},
   "outputs": [
    {
     "data": {
      "text/plain": [
       "[[1, 2], [1, 2]]"
      ]
     },
     "execution_count": 7,
     "metadata": {},
     "output_type": "execute_result"
    }
   ],
   "source": [
    "list1 = [[1]]\n",
    "list2 = list1 * 2\n",
    "\n",
    "list2[0].append(2)\n",
    "list2\n",
    "# list2.append(2)\n",
    "# list2"
   ]
  },
  {
   "cell_type": "code",
   "execution_count": 4,
   "metadata": {},
   "outputs": [
    {
     "data": {
      "text/plain": [
       "[1, 2, 3, 4, 5]"
      ]
     },
     "execution_count": 4,
     "metadata": {},
     "output_type": "execute_result"
    }
   ],
   "source": [
    "a=[1,2,3,4]\n",
    "a.append(5)\n",
    "a"
   ]
  },
  {
   "cell_type": "code",
   "execution_count": 8,
   "metadata": {},
   "outputs": [
    {
     "data": {
      "text/plain": [
       "[[0, 2, 4, 6], [0, 2, 4, 6], [0, 2, 4, 6], [0, 2, 4, 6]]"
      ]
     },
     "execution_count": 8,
     "metadata": {},
     "output_type": "execute_result"
    }
   ],
   "source": [
    "list1 = [[]] * 4\n",
    "\n",
    "for i in range(4):\n",
    "    list1[i].append(2*i)\n",
    "list1 "
   ]
  },
  {
   "cell_type": "code",
   "execution_count": 10,
   "metadata": {},
   "outputs": [
    {
     "data": {
      "text/plain": [
       "[[65, 97], [66, 98], [67, 99], [68, 100], [69, 101], [70, 102]]"
      ]
     },
     "execution_count": 10,
     "metadata": {},
     "output_type": "execute_result"
    }
   ],
   "source": [
    "seq1 = [chr(i) for i in range(65,71)]\n",
    "seq2 = [chr(i) for i in range(97,103)]\n",
    "\n",
    "a=[ord(seq1[i]) + ord(seq2[i]) for i in range(6)]\n",
    "a\n",
    "b=[[ord(seq1[i])] + [ord(seq2[i])] for i in range(6)]\n",
    "b"
   ]
  },
  {
   "cell_type": "code",
   "execution_count": 11,
   "metadata": {},
   "outputs": [
    {
     "name": "stdout",
     "output_type": "stream",
     "text": [
      "1 Python\n",
      "2 R\n",
      "3 Scala\n"
     ]
    }
   ],
   "source": [
    "languages = ['Python', 'R', 'Scala']\n",
    "for index, element in enumerate(languages, start = 1):\n",
    "    print(index, element)"
   ]
  },
  {
   "cell_type": "code",
   "execution_count": 17,
   "metadata": {},
   "outputs": [
    {
     "data": {
      "text/plain": [
       "(('ABC', 'NBC', 'CBS'), ('Python', 123, 3.1416), (2.71828, 1.732))"
      ]
     },
     "execution_count": 17,
     "metadata": {},
     "output_type": "execute_result"
    }
   ],
   "source": [
    "t1=(('ABC', 'NBC', 'CBS'), ('Python', 123, 3.1416), (2.71828, 1.732))\n",
    "t = tuple(t1[0:3])\n",
    "t"
   ]
  },
  {
   "cell_type": "code",
   "execution_count": 14,
   "metadata": {},
   "outputs": [
    {
     "data": {
      "text/plain": [
       "('Python', 123, 3.1416)"
      ]
     },
     "execution_count": 14,
     "metadata": {},
     "output_type": "execute_result"
    }
   ],
   "source": [
    "t = tuple(t1[1])\n",
    "t"
   ]
  },
  {
   "cell_type": "code",
   "execution_count": 18,
   "metadata": {},
   "outputs": [],
   "source": [
    "lyric = [\"I'm trying to hold my breath\",\n",
    "          \"Let it stay this way\",\n",
    "          \"Can't let this moment end\",\n",
    "          \"You set off a dream with me\",\n",
    "          \"Getting louder now\",\n",
    "          \"Can you hear it echoing?\",\n",
    "          \"Take my hand\",\n",
    "          \"Will you share this with me?\",\n",
    "          \"'Cause darling without you\",\n",
    "          \"All the shine of a thousand spotlights\",\n",
    "          \"All the stars we steal from the nightsky\",\n",
    "          \"Will never be enough\",\n",
    "          \"Never be enough\",\n",
    "          \"Towers of gold are still too little\",\n",
    "          \"These hands could hold the world but it'll\",\n",
    "          \"Never be enough\", \"For me\",\n",
    "          \"Never, never\", \"Never, for me\",\n",
    "          \"Never enough\", \"For me\"]\n",
    "\n",
    "def neverEnough2():\n",
    "    \"\"\" Word counts of Lyric of \"NEVER ENOUGH\"\n",
    "        from the movie, The Greatest Showman \"\"\"\n",
    "    \n",
    "##  -------------------------------------------\n",
    "##  >>>>>  Word Count ..........\n",
    "##  -------------------------------------------\n",
    "    for i in [-6, -4, -2, -1]:  # NOTE: There's no switch-case in Python.\n",
    "        if i == -1:\n",
    "            lyric.insert(i, lyric[i])\n",
    "        if i == -2 or i == -1:\n",
    "            lyric.insert(i, lyric[i])\n",
    "        lyric.insert(i, lyric[i])\n",
    "\n",
    "    print(\" --- << Never Enough 2 >> --- \")    \n",
    "    for verse in lyric:\n",
    "        print(verse, end='\\n')\n",
    "    \n",
    "    ##  Tokenizing words...\n",
    "    lyric_to_words = []\n",
    "    for verse in lyric:\n",
    "        words = verse.split(\" \")\n",
    "        for w in words:\n",
    "            w = w.rstrip('?')\n",
    "            lyric_to_words.append(w.rstrip(','))          \n",
    "\n",
    "    ##  Word counting...\n",
    "    lyric_to_wordset = set(lyric_to_words)\n",
    "    \n",
    "    word_count_dic = {}\n",
    "    for word in lyric_to_wordset:\n",
    "        value = 0\n",
    "        for wordCount in lyric_to_words:\n",
    "            if word == wordCount:\n",
    "                value = value + 1\n",
    "        word_count_dic[word] = value\n",
    "\n",
    "    ##  Sorting......\n",
    "    word_sorted = sorted(word_count_dic.keys())\n",
    "    values = list(word_count_dic.values())\n",
    "\n",
    "    value_sorted = []\n",
    "    for k in word_sorted:\n",
    "        i = 0\n",
    "        for k1 in word_count_dic.keys():\n",
    "            if k == k1 :\n",
    "                value_sorted.append(values[i])\n",
    "            i = i + 1\n",
    "\n",
    "    ##  Output the Word-Count results... \n",
    "    print(\"\\n\\n --- <<  Word-Counting the lyric of Never Enough >> --- \")\n",
    "    for i in range(len(value_sorted)):\n",
    "        nb = 20 - len(word_sorted[i])\n",
    "        if value_sorted[i] >= 10:\n",
    "           nb = nb - 1\n",
    "        print(word_sorted[i], ' '*nb, value_sorted[i])\n",
    "    \n",
    "    # return word_count_dic"
   ]
  },
  {
   "cell_type": "code",
   "execution_count": 19,
   "metadata": {},
   "outputs": [
    {
     "name": "stdout",
     "output_type": "stream",
     "text": [
      " --- << Never Enough 2 >> --- \n",
      "I'm trying to hold my breath\n",
      "Let it stay this way\n",
      "Can't let this moment end\n",
      "You set off a dream with me\n",
      "Getting louder now\n",
      "Can you hear it echoing?\n",
      "Take my hand\n",
      "Will you share this with me?\n",
      "'Cause darling without you\n",
      "All the shine of a thousand spotlights\n",
      "All the stars we steal from the nightsky\n",
      "Will never be enough\n",
      "Never be enough\n",
      "Towers of gold are still too little\n",
      "These hands could hold the world but it'll\n",
      "Never be enough\n",
      "Never be enough\n",
      "For me\n",
      "Never, never\n",
      "Never, never\n",
      "Never, for me\n",
      "Never enough\n",
      "Never enough\n",
      "Never enough\n",
      "For me\n",
      "For me\n",
      "For me\n",
      "For me\n",
      "\n",
      "\n",
      " --- <<  Word-Counting the lyric of Never Enough >> --- \n",
      "'Cause                1\n",
      "All                   2\n",
      "Can                   1\n",
      "Can't                 1\n",
      "For                   5\n",
      "Getting               1\n",
      "I'm                   1\n",
      "Let                   1\n",
      "Never                 9\n",
      "Take                  1\n",
      "These                 1\n",
      "Towers                1\n",
      "Will                  2\n",
      "You                   1\n",
      "a                     2\n",
      "are                   1\n",
      "be                    4\n",
      "breath                1\n",
      "but                   1\n",
      "could                 1\n",
      "darling               1\n",
      "dream                 1\n",
      "echoing               1\n",
      "end                   1\n",
      "enough                7\n",
      "for                   1\n",
      "from                  1\n",
      "gold                  1\n",
      "hand                  1\n",
      "hands                 1\n",
      "hear                  1\n",
      "hold                  2\n",
      "it                    2\n",
      "it'll                 1\n",
      "let                   1\n",
      "little                1\n",
      "louder                1\n",
      "me                    8\n",
      "moment                1\n",
      "my                    2\n",
      "never                 3\n",
      "nightsky              1\n",
      "now                   1\n",
      "of                    2\n",
      "off                   1\n",
      "set                   1\n",
      "share                 1\n",
      "shine                 1\n",
      "spotlights            1\n",
      "stars                 1\n",
      "stay                  1\n",
      "steal                 1\n",
      "still                 1\n",
      "the                   4\n",
      "this                  3\n",
      "thousand              1\n",
      "to                    1\n",
      "too                   1\n",
      "trying                1\n",
      "way                   1\n",
      "we                    1\n",
      "with                  2\n",
      "without               1\n",
      "world                 1\n",
      "you                   3\n"
     ]
    }
   ],
   "source": [
    "neverEnough2()"
   ]
  },
  {
   "cell_type": "code",
   "execution_count": 26,
   "metadata": {},
   "outputs": [
    {
     "data": {
      "text/plain": [
       "{'P', 'h', 'n', 'o', 't', 'y'}"
      ]
     },
     "execution_count": 26,
     "metadata": {},
     "output_type": "execute_result"
    }
   ],
   "source": [
    "word_py1 = set('Python')\n",
    "word_py2 = set('Pythagoras')\n",
    "word_py1"
   ]
  },
  {
   "cell_type": "code",
   "execution_count": 36,
   "metadata": {},
   "outputs": [
    {
     "data": {
      "text/plain": [
       "{'P', 'a', 'g', 'h', 'n', 'o', 'r', 's', 't', 'y'}"
      ]
     },
     "execution_count": 36,
     "metadata": {},
     "output_type": "execute_result"
    }
   ],
   "source": [
    "set_union=word_py2 | word_py1 #-{x for x in word_py2 if x in word_py1} # intersection\n",
    "# set_union={x for x in word_py2 if x in word_py1}+{word_py1}\n",
    "set_union"
   ]
  },
  {
   "cell_type": "code",
   "execution_count": 38,
   "metadata": {},
   "outputs": [
    {
     "data": {
      "text/plain": [
       "{'P', 'a', 'g', 'h', 'n', 'o', 'r', 's', 't', 'y'}"
      ]
     },
     "execution_count": 38,
     "metadata": {},
     "output_type": "execute_result"
    }
   ],
   "source": [
    "symmetric_difference=word_py2 | word_py1  -  word_py2 & word_py1\n",
    "symmetric_difference"
   ]
  },
  {
   "cell_type": "code",
   "execution_count": 1,
   "metadata": {},
   "outputs": [
    {
     "data": {
      "text/plain": [
       "{'C': 2.0, 'B': 3.0, 'A': 4.0, 'F': 'Fail'}"
      ]
     },
     "execution_count": 1,
     "metadata": {},
     "output_type": "execute_result"
    }
   ],
   "source": [
    "gpa0 = {'C':2.0, 'B':3.0, 'A':4.0, 'F':'Fail'}\n",
    "gpa0"
   ]
  },
  {
   "cell_type": "code",
   "execution_count": 3,
   "metadata": {},
   "outputs": [
    {
     "data": {
      "text/plain": [
       "{'A': 4.0, 'B': 3.0, 'C': 2.0, 'F': 'Fail'}"
      ]
     },
     "execution_count": 3,
     "metadata": {},
     "output_type": "execute_result"
    }
   ],
   "source": [
    "gpa1 = dict(A=4.0, B=3.0, C=2.0, F='Fail' )\n",
    "gpa1"
   ]
  },
  {
   "cell_type": "code",
   "execution_count": 5,
   "metadata": {},
   "outputs": [
    {
     "data": {
      "text/plain": [
       "dict_keys(['Cheeseburger', 'fries', 'Coke', 'coffee'])"
      ]
     },
     "execution_count": 5,
     "metadata": {},
     "output_type": "execute_result"
    }
   ],
   "source": [
    "fastfood = {'Cheeseburger':50, 'fries':25, 'Coke':35, 'coffee':45}\n",
    "items = fastfood.keys()\n",
    "prices = fastfood.values()\n",
    "items"
   ]
  },
  {
   "cell_type": "code",
   "execution_count": 6,
   "metadata": {},
   "outputs": [
    {
     "data": {
      "text/plain": [
       "dict_values([50, 25, 35, 45])"
      ]
     },
     "execution_count": 6,
     "metadata": {},
     "output_type": "execute_result"
    }
   ],
   "source": [
    "prices"
   ]
  },
  {
   "cell_type": "code",
   "execution_count": 8,
   "metadata": {},
   "outputs": [
    {
     "data": {
      "text/plain": [
       "{1: 0.0,\n",
       " 2: 0.30102999566398114,\n",
       " 3: 0.47712125471966244,\n",
       " 5: 0.6989700043360187,\n",
       " 10: 1.0,\n",
       " 50: 1.6989700043360185,\n",
       " 100: 2.0}"
      ]
     },
     "execution_count": 8,
     "metadata": {},
     "output_type": "execute_result"
    }
   ],
   "source": [
    "from math import log\n",
    "{x : log(x, 10) for x in (1,2,3,5,10,50,100)}"
   ]
  },
  {
   "cell_type": "code",
   "execution_count": 9,
   "metadata": {},
   "outputs": [
    {
     "data": {
      "text/plain": [
       "{0: 1, 1: 4, 2: 9, 3: 16, 4: 25, 5: 36}"
      ]
     },
     "execution_count": 9,
     "metadata": {},
     "output_type": "execute_result"
    }
   ],
   "source": [
    "{x : x**2+2*x+1 for x in range(0,6)}"
   ]
  },
  {
   "cell_type": "code",
   "execution_count": 11,
   "metadata": {},
   "outputs": [
    {
     "data": {
      "text/plain": [
       "{0: 1, 1: 4, 2: 9, 3: 16, 4: 25, 5: 36}"
      ]
     },
     "execution_count": 11,
     "metadata": {},
     "output_type": "execute_result"
    }
   ],
   "source": [
    "num=dict()\n",
    "for x in range(6):\n",
    "    num[x]=x**2+2*x+1\n",
    "num"
   ]
  },
  {
   "cell_type": "code",
   "execution_count": 12,
   "metadata": {},
   "outputs": [
    {
     "name": "stdout",
     "output_type": "stream",
     "text": [
      "gallahad the pure\n",
      "robin the brave\n",
      "0 tic\n",
      "1 tac\n",
      "2 toe\n"
     ]
    }
   ],
   "source": [
    "knights = {'gallahad': 'the pure', 'robin': 'the brave'}\n",
    "for k, v in knights.items():\n",
    "    print(k, v)\n",
    "for i, v in enumerate(['tic', 'tac', 'toe']):\n",
    "    print(i, v)"
   ]
  },
  {
   "cell_type": "code",
   "execution_count": 16,
   "metadata": {},
   "outputs": [
    {
     "name": "stdout",
     "output_type": "stream",
     "text": [
      "What is your lancelot? It is name.\n",
      "What is your the holy grail? It is quest.\n",
      "What is your blue? It is favorite color.\n"
     ]
    }
   ],
   "source": [
    "questions = ['name', 'quest', 'favorite color']\n",
    "answers = ['lancelot', 'the holy grail', 'blue']\n",
    "for q, a in zip(questions, answers):\n",
    "    print('What is your {1}? It is {0}.'.format(q, a))"
   ]
  },
  {
   "cell_type": "code",
   "execution_count": 14,
   "metadata": {},
   "outputs": [
    {
     "data": {
      "text/plain": [
       "3.0"
      ]
     },
     "execution_count": 14,
     "metadata": {},
     "output_type": "execute_result"
    }
   ],
   "source": [
    "1.+(2)"
   ]
  },
  {
   "cell_type": "code",
   "execution_count": 18,
   "metadata": {},
   "outputs": [
    {
     "data": {
      "text/plain": [
       "[56.2, nan, 51.7, 55.3, 52.5, nan, 47.8]"
      ]
     },
     "execution_count": 18,
     "metadata": {},
     "output_type": "execute_result"
    }
   ],
   "source": [
    "import math\n",
    "raw_data = [56.2, float('NaN'), 51.7, 55.3, 52.5, float('NaN'), 47.8]\n",
    "raw_data"
   ]
  },
  {
   "cell_type": "code",
   "execution_count": 19,
   "metadata": {},
   "outputs": [
    {
     "data": {
      "text/plain": [
       "[56.2, 51.7, 55.3, 52.5, 47.8]"
      ]
     },
     "execution_count": 19,
     "metadata": {},
     "output_type": "execute_result"
    }
   ],
   "source": [
    "filtered_data = []\n",
    "for value in raw_data:\n",
    "    if not math.isnan(value):\n",
    "        filtered_data.append(value)\n",
    "filtered_data"
   ]
  },
  {
   "cell_type": "code",
   "execution_count": 23,
   "metadata": {},
   "outputs": [
    {
     "data": {
      "text/plain": [
       "''"
      ]
     },
     "execution_count": 23,
     "metadata": {},
     "output_type": "execute_result"
    }
   ],
   "source": [
    "string1, string2, string3 = '', 'Trondheim', 'Hammer Dance'\n",
    "non_null = string1 and (string2 or string3)\n",
    "non_null"
   ]
  },
  {
   "cell_type": "code",
   "execution_count": null,
   "metadata": {},
   "outputs": [],
   "source": []
  }
 ],
 "metadata": {
  "kernelspec": {
   "display_name": "Python 3",
   "language": "python",
   "name": "python3"
  },
  "language_info": {
   "codemirror_mode": {
    "name": "ipython",
    "version": 3
   },
   "file_extension": ".py",
   "mimetype": "text/x-python",
   "name": "python",
   "nbconvert_exporter": "python",
   "pygments_lexer": "ipython3",
   "version": "3.7.4"
  }
 },
 "nbformat": 4,
 "nbformat_minor": 2
}
