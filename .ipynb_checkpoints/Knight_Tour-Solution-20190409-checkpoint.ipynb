{
 "cells": [
  {
   "cell_type": "markdown",
   "metadata": {},
   "source": [
    "## Knight's Tour Problem - WARNSDORFF algorithm with dynamic degree-updating"
   ]
  },
  {
   "cell_type": "code",
   "execution_count": 4,
   "metadata": {},
   "outputs": [
    {
     "ename": "NameError",
     "evalue": "name 'rnage' is not defined",
     "output_type": "error",
     "traceback": [
      "\u001b[1;31m---------------------------------------------------------------------------\u001b[0m",
      "\u001b[1;31mNameError\u001b[0m                                 Traceback (most recent call last)",
      "\u001b[1;32m<ipython-input-4-b6fda3e46055>\u001b[0m in \u001b[0;36m<module>\u001b[1;34m\u001b[0m\n\u001b[0;32m     72\u001b[0m             \u001b[0mprint\u001b[0m\u001b[1;33m(\u001b[0m\u001b[1;34m'{0:3d}'\u001b[0m\u001b[1;33m.\u001b[0m\u001b[0mformat\u001b[0m\u001b[1;33m(\u001b[0m\u001b[0mdegree_map\u001b[0m\u001b[1;33m[\u001b[0m\u001b[0mi\u001b[0m\u001b[1;33m]\u001b[0m\u001b[1;33m-\u001b[0m\u001b[0mni\u001b[0m\u001b[1;33m*\u001b[0m\u001b[0mnj\u001b[0m\u001b[1;33m+\u001b[0m\u001b[1;36m1\u001b[0m\u001b[1;33m)\u001b[0m\u001b[1;33m)\u001b[0m\u001b[1;33m\u001b[0m\u001b[1;33m\u001b[0m\u001b[0m\n\u001b[0;32m     73\u001b[0m \u001b[1;33m\u001b[0m\u001b[0m\n\u001b[1;32m---> 74\u001b[1;33m \u001b[1;32mfor\u001b[0m \u001b[0mx\u001b[0m \u001b[1;32min\u001b[0m \u001b[0mrnage\u001b[0m\u001b[1;33m(\u001b[0m\u001b[1;36m8\u001b[0m\u001b[1;33m)\u001b[0m\u001b[1;33m:\u001b[0m\u001b[1;33m\u001b[0m\u001b[1;33m\u001b[0m\u001b[0m\n\u001b[0m\u001b[0;32m     75\u001b[0m     \u001b[1;32mfor\u001b[0m \u001b[0my\u001b[0m \u001b[1;32min\u001b[0m \u001b[0mrange\u001b[0m\u001b[1;33m(\u001b[0m\u001b[1;36m8\u001b[0m\u001b[1;33m)\u001b[0m\u001b[1;33m:\u001b[0m\u001b[1;33m\u001b[0m\u001b[1;33m\u001b[0m\u001b[0m\n\u001b[0;32m     76\u001b[0m         \u001b[0mprint\u001b[0m\u001b[1;33m(\u001b[0m\u001b[1;34m'from:'\u001b[0m\u001b[1;33m,\u001b[0m\u001b[0mx\u001b[0m\u001b[1;33m,\u001b[0m\u001b[0my\u001b[0m\u001b[1;33m)\u001b[0m\u001b[1;33m\u001b[0m\u001b[1;33m\u001b[0m\u001b[0m\n",
      "\u001b[1;31mNameError\u001b[0m: name 'rnage' is not defined"
     ]
    }
   ],
   "source": [
    "# Knight's Tour Problem - WARNSDORFF algorithm with dynamic degree-updating\n",
    "def knightTour(ni, nj, xi, xj):\n",
    "    # Creating a degree map by the WARNSDORFF rules...\n",
    "    degree_map = [2,3,4,4,4,4,3,2,\n",
    "                  3,4,6,6,6,6,4,3,\n",
    "                  4,6,8,8,8,8,6,4,\n",
    "                  4,6,8,8,8,8,6,4,\n",
    "                  4,6,8,8,8,8,6,4,\n",
    "                  4,6,8,8,8,8,6,4,\n",
    "                  3,4,6,6,6,6,4,3,\n",
    "                  2,3,4,4,4,4,3,2]\n",
    "    # knight_map = degree_map\n",
    "    \n",
    "    for i in range(ni*nj):\n",
    "        if i%8 < 7:\n",
    "            print(degree_map[i], end=' ')\n",
    "        else: \n",
    "            print(degree_map[i])\n",
    "\n",
    "    # Creating the 8 possible moves...\n",
    "    eight_moves = [(1,-2),(2,-1),(2,1),(1,2),(-1,2),(-2,1),(-2,-1),(-1,-2)]\n",
    "    for i in range(8):\n",
    "        print(eight_moves[i], end=' ')\n",
    "    print('\\n')\n",
    "    \n",
    "    # Initiating the start position of Knight...\n",
    "    knight_move = ni*nj\n",
    "\n",
    "    # Looping for finding the Hamiltonian Path for Knight’s Tour...\n",
    "    for _ in range(knight_move-1):\n",
    "        if knight_move == ni*nj:\n",
    "            degree_map[xi*8+xj] = knight_move\n",
    "\n",
    "        # Checking if the moves within the board boundaries or not...\n",
    "        OK_moves = []\n",
    "        for i in range(8):\n",
    "            (test_i, test_j) = (xi + eight_moves[i][0], xj + eight_moves[i][1])\n",
    "            if test_i >= 0 and test_j >= 0 and test_i <= 7 and test_j <= 7:\n",
    "                OK_moves.append((test_i, test_j))\n",
    "        # print(OK_moves)\n",
    "\n",
    "        # Finding the next position for Knight's movement...\n",
    "        count = 0\n",
    "        for ti,tj in OK_moves:\n",
    "            # print(degree_map[ti*8+tj], end=' ')\n",
    "            if degree_map[ti*8+tj] >= ni*nj:\n",
    "                continue\n",
    "            elif count == 0:\n",
    "                temp = ti, tj, degree_map[ti*8+tj]\n",
    "                count += 1\n",
    "            elif degree_map[ti*8+tj] < temp[2]:\n",
    "                temp = ti, tj, degree_map[ti*8+tj]\n",
    "        # print(temp)\n",
    "        \n",
    "        # Updating the degree map and the new move...\n",
    "        for ti,tj in OK_moves:\n",
    "            if degree_map[ti*8+tj] >= ni*nj:\n",
    "                continue\n",
    "            else: \n",
    "                degree_map[ti*8+tj] -= 1\n",
    "\n",
    "        knight_move += 1\n",
    "        degree_map[temp[0]*8+temp[1]] = knight_move\n",
    "        xi, xj = temp[0], temp[1]\n",
    "        # print(degree_map[temp[0]*8+temp[1]], xi, xj, temp[2])\n",
    "    \n",
    "    # Print out the Hamiltonian Path for Knight’s Tour...\n",
    "    for i in range(ni*nj):\n",
    "        if i%8 < 7:\n",
    "            print('{0:3d}'.format(degree_map[i]-ni*nj+1), end=' ')\n",
    "        else: \n",
    "            print('{0:3d}'.format(degree_map[i]-ni*nj+1))    \n",
    "\n",
    "for x in range(8):\n",
    "    for y in range(8):\n",
    "        print('from:',x,y)\n",
    "        knightTour(8,8,x,y)"
   ]
  },
  {
   "cell_type": "code",
   "execution_count": null,
   "metadata": {},
   "outputs": [],
   "source": []
  }
 ],
 "metadata": {
  "kernelspec": {
   "display_name": "Python 3",
   "language": "python",
   "name": "python3"
  },
  "language_info": {
   "codemirror_mode": {
    "name": "ipython",
    "version": 3
   },
   "file_extension": ".py",
   "mimetype": "text/x-python",
   "name": "python",
   "nbconvert_exporter": "python",
   "pygments_lexer": "ipython3",
   "version": "3.7.4"
  }
 },
 "nbformat": 4,
 "nbformat_minor": 2
}
