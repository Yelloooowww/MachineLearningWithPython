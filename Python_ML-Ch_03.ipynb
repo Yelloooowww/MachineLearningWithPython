{
 "cells": [
  {
   "cell_type": "markdown",
   "metadata": {},
   "source": [
    "# PART I   < Python程式設計 >\n",
    "# 3. 流程控制與資料結構\n",
    "- [3.1 流程控制](#流程控制)\n",
    "- [3.2 資料結構](#資料結構)"
   ]
  },
  {
   "cell_type": "markdown",
   "metadata": {},
   "source": [
    "<a id='流程控制'></a>\n",
    "## 3.1  流程控制\n",
    "- [if, if...else..., elif 敘述](#if, if...else..., elif 敘述)\n",
    "- [while 敘述](#while 敘述)\n",
    "- [for 敘述](#for 敘述)\n",
    "- [for ... else ... with break / continue](#for ... else ...)"
   ]
  },
  {
   "cell_type": "markdown",
   "metadata": {},
   "source": [
    "<a id='if,if...else...,elif敘述'></a>\n",
    "### if, if...else..., elif 敘述"
   ]
  },
  {
   "cell_type": "code",
   "execution_count": null,
   "metadata": {
    "scrolled": true
   },
   "outputs": [],
   "source": [
    "x = float(input(\"Please enter a number: \"))"
   ]
  },
  {
   "cell_type": "code",
   "execution_count": null,
   "metadata": {},
   "outputs": [],
   "source": [
    "x"
   ]
  },
  {
   "cell_type": "code",
   "execution_count": null,
   "metadata": {},
   "outputs": [],
   "source": [
    "if x < 0:\n",
    "    print(x,'is less than zero !')\n",
    "elif x == 0:\n",
    "    print('0')\n",
    "elif x == 1:\n",
    "    print('1')\n",
    "else:\n",
    "    print(x,' > 0')"
   ]
  },
  {
   "cell_type": "markdown",
   "metadata": {},
   "source": [
    "- 關鍵字 elif 是 else if 縮寫，同時可以避免過多的縮排 (indentation)。\n",
    "- if ... elif ... elif ... 用法取代了了其他程式語言中的 switch 和 case 敘述語法。"
   ]
  },
  {
   "cell_type": "markdown",
   "metadata": {},
   "source": [
    "<a id='while 敘述'></a>\n",
    "### while 敘述"
   ]
  },
  {
   "cell_type": "markdown",
   "metadata": {},
   "source": [
    "#### [Example 3.1.1] 執行下列程式，計算 最⼤公因數(GCD) 和 費氏數列(Fibonacci numbers)："
   ]
  },
  {
   "cell_type": "code",
   "execution_count": null,
   "metadata": {},
   "outputs": [],
   "source": [
    "# GCD: greatest common divisor\n",
    "a = int(input(\"Please enter a number: a=\"))\n",
    "b = int(input(\"Please enter a number: b=\"))\n",
    "# (a, b) = (17, 144)\n",
    "while a != 0:\n",
    "    print(' a =\\t', a,'\\t b =\\t',b)\n",
    "    a, b = b % a, a\n",
    "print(\" GCD = \", b)\n",
    "\n",
    "# Fibonacci series: F(i) = F(i-1) + F(i+1)\n",
    "a, b = 0, 1\n",
    "print('\\nFibonacci numbers = ', end=' ')\n",
    "while b < 50:\n",
    "    print(b, end=' ')\n",
    "    a, b = b, a+b"
   ]
  },
  {
   "cell_type": "markdown",
   "metadata": {},
   "source": [
    "####  < EXERCISE > :\n",
    "#### 請修改上列程式，使其可以任意輸入 a 和 b 二數值，計算 GCD 和 費氏數列。"
   ]
  },
  {
   "cell_type": "markdown",
   "metadata": {},
   "source": [
    "<a id='for 敘述'></a>\n",
    "### for 敘述"
   ]
  },
  {
   "cell_type": "markdown",
   "metadata": {},
   "source": [
    "#### [ Example 3.1.2] 執⾏下列程式，分別輸出 (1)字串中的字母, (2)陣列中的元素, (3)計算字串長度."
   ]
  },
  {
   "cell_type": "code",
   "execution_count": null,
   "metadata": {},
   "outputs": [],
   "source": [
    "## (1) Using the for-loop to print letters out of a string...\n",
    "print(\"\\n>> Print letters out of a string : 'Python 2.6.3'\") \n",
    "i=0\n",
    "for alpha in 'Python 2.6.3':\n",
    "    i=i+1\n",
    "    print(' 第 ', i, ' 個字⺟ :', alpha)\n",
    "\n",
    "    \n",
    "## (2) Using the for-loop to print the elements from an array...\n",
    "print(\"\\n>> Print the elements from an array...\")\n",
    "languages = ['⿑天⼤聖', '孫悟空', '花果山水簾洞','~~~~~~~我是中文字~~~~~~']\n",
    "for language in languages:\n",
    "   print (' Language Version :', language)\n",
    "\n",
    "\n",
    "## (3) Measuring a string length...\n",
    "print(\"\\n>> Print a string length...\")\n",
    "for count in languages:\n",
    "    print(count, '\\t length =', len(count))"
   ]
  },
  {
   "cell_type": "markdown",
   "metadata": {},
   "source": [
    "####  < EXERCISE > :\n",
    "請修改上列程式，使其可以分別輸出:\n",
    "- (1) 中⽂字串中的⽂字 (例如:'第 10 個字母 : 6' ),\n",
    "- (2) 陣列:['⿑天⼤聖', '孫悟空', '花果山水簾洞'] 中的元素, \n",
    "- (3) 計算上述陣列中，各字串元素的長度。"
   ]
  },
  {
   "cell_type": "markdown",
   "metadata": {},
   "source": [
    "#### [ Example 3.1.3]  執⾏下列程式,複製陣列中某些字串元素,並插入至所有元素之前"
   ]
  },
  {
   "cell_type": "code",
   "execution_count": null,
   "metadata": {},
   "outputs": [],
   "source": [
    "## Duplicating & Inserting elements in an array...\n",
    "fruits = ['apple', 'mango', 'watermelon', 'banana', 'pineapple']\n",
    "print('\\n fruits (before) =', fruits)\n",
    "x=fruits[:]\n",
    "for f in x:  # Loop over a slice copy of the entire list.\n",
    "    if (len(f) <= 6) or (len(f) > 9): # 與下⼀一⾏行行敘述相同，差異異在括號\n",
    "#       if len(f) <= 8 and len(f) >= 5:\n",
    "            fruits.insert(4, f)\n",
    "print('\\n f =', f)\n",
    "print('\\n fruits (after) =', fruits)"
   ]
  },
  {
   "cell_type": "markdown",
   "metadata": {},
   "source": [
    "####  < EXERCISE >  請修改 [ Example 3.1.3] 程式，使其可以分別依照下列⽅式輸出:\n",
    "- (1) 插入⾄原來陣列元素 banana 和 pineapple 之間, \n",
    "- (2) 設定欲複製的字串串元素長度為 len(f) <= 6 或 > 9。\n",
    "\n",
    "[ 提⽰ ] : (2) 可以⽤運算元 or 或 |"
   ]
  },
  {
   "cell_type": "markdown",
   "metadata": {},
   "source": [
    "### `range()` 函數 "
   ]
  },
  {
   "cell_type": "code",
   "execution_count": null,
   "metadata": {},
   "outputs": [],
   "source": [
    "for i in range(2, 10,2):     # same as range(2, 10, 1)\n",
    "    print(i, end=' ')      # => 2 3 4 5 6 7 8 9"
   ]
  },
  {
   "cell_type": "code",
   "execution_count": null,
   "metadata": {},
   "outputs": [],
   "source": [
    "print(range(5))      # Only show =>  range(0, 5)"
   ]
  },
  {
   "cell_type": "code",
   "execution_count": null,
   "metadata": {},
   "outputs": [],
   "source": [
    "list(range(5))   # OUTPUT => [0, 1, 2, 3, 4]"
   ]
  },
  {
   "cell_type": "markdown",
   "metadata": {},
   "source": [
    "#### Q : `range(-15, 25, 3)` 和 `range(-15, -25, -3)` 的範圍分別為何?"
   ]
  },
  {
   "cell_type": "code",
   "execution_count": null,
   "metadata": {},
   "outputs": [],
   "source": [
    "list(range(-15,-25,-3))"
   ]
  },
  {
   "cell_type": "markdown",
   "metadata": {},
   "source": [
    "#### [ Example 3.1.4 ] : range() 函數 與 for loop"
   ]
  },
  {
   "cell_type": "code",
   "execution_count": null,
   "metadata": {},
   "outputs": [],
   "source": [
    "## Calculating0+1+2+3+4= 10 # Example Code - 1\n",
    "s=0\n",
    "n=5\n",
    "for i in range(n): \n",
    "    s=s+i\n",
    "    print(i, end='')\n",
    "    if i < (n-1): print(end=' + ')\n",
    "print(' = ', s)\n",
    "\n",
    "# Example Code - 2\n",
    "print(' sum(range(5)) = ', sum(range(5)), end='\\n\\n')\n",
    "\n",
    "##  Using len() function\n",
    "notes = ['ti', 'do', 're', 'mi', 'fa', 'sol', 'la']\n",
    "for i in range(len(notes)):\n",
    "        print('notes[', i, '] : ', notes[i])"
   ]
  },
  {
   "cell_type": "markdown",
   "metadata": {},
   "source": [
    "<a id='for ... else ...'></a>\n",
    "### for ... else ... with break / continue 敘述"
   ]
  },
  {
   "cell_type": "markdown",
   "metadata": {},
   "source": [
    "#### [ Example 3.1.5 ] : 執⾏下列程式 - 搜尋質數 (prime number)"
   ]
  },
  {
   "cell_type": "code",
   "execution_count": null,
   "metadata": {},
   "outputs": [],
   "source": [
    "##  Finding the prime numbers less than 20...\n",
    "for n in range(2, 20):\n",
    "#     print('!!!!!!!!!!!!!!!!!!!!!!!!!!n=',n)\n",
    "    for x in range(2, n):\n",
    "#         print('~~~~~~~~~~~~~~~~~~~~~~~~~~~x=',x)\n",
    "        if n % x == 0:\n",
    "#             print(n, 'equals', x, '*', n//x, end=' ') \n",
    "            break\n",
    "    else:\n",
    "        # loop fell through without finding a factor \n",
    "        print(n, 'is a prime number !')\n",
    "        continue\n",
    "    print(' >> ', n, 'is not a prime number.')"
   ]
  },
  {
   "cell_type": "markdown",
   "metadata": {},
   "source": [
    "<a id='資料結構'></a>\n",
    "## 3.2  資料結構\n",
    "- [Lists (列表)](#Lists (列表)\n",
    "- [List Comprehension (列表精簡)](#List Comprehension (列表精簡)\n",
    "- [Basic Sequence Types — list, tuple, range](#Basic Sequence Types — list, tuple, range)\n",
    "- [Tuples (元組)](#Tuples (元組))\n",
    "- [Text Sequence Type (⽂字序列資料型別) — str](#Text Sequence Type (⽂字序列資料型別)\n",
    "- [Sets (集合)](#Sets (集合)\n",
    "- [Dictionaries (字典)](#Dictionaries (字典)\n",
    "\n",
    "### Ref :  C. Alex Hu, \"Data Structures with Python\", 2018/2/22."
   ]
  },
  {
   "cell_type": "code",
   "execution_count": null,
   "metadata": {},
   "outputs": [],
   "source": [
    "listNumbers = [ 1, 2, 3, 4, 5, 6, 7, 8, 9, 0]\n",
    "listLetters = ['A', 'b', 'C', 'd', 'E']\n",
    "listConstants = [ 1.41421, 3.14159, 2.71828]\n",
    "list0 = listNumbers #Renaming in the local symbol table\n",
    "list0 # [1, 2, 3, 4, 5, 6, 7, 8, 9, 0]\n",
    "list0.append('a')\n",
    "list0 # [1, 2, 3, 4, 5, 6, 7, 8, 9, 0, 'a']\n",
    "list1 = None\n",
    "list1 # 注意：沒有輸出結果\n",
    "list1.append(list0)"
   ]
  },
  {
   "cell_type": "code",
   "execution_count": null,
   "metadata": {},
   "outputs": [],
   "source": [
    "listNumbers"
   ]
  },
  {
   "cell_type": "code",
   "execution_count": null,
   "metadata": {},
   "outputs": [],
   "source": [
    "listNumbers = [ 1, 2, 3, 4, 5, 6, 7, 8, 9, 0]\n",
    "listLetters = ['A', 'b', 'C', 'd', 'E']\n",
    "listConstants = [ 1.41421, 3.14159, 2.71828]\n",
    "list0 = []\n",
    "## [extend() 的⽤用法]\n",
    "list0 = listLetters\n",
    "list0 # ['A', 'b', 'C', 'd', 'E']\n",
    "list0.extend(listNumbers[2:5])\n",
    "list0 # ['A', 'b', 'C', 'd', 'E', 3, 4, 5]\n",
    "## But… listLetters 原始資料被更更改！ WHY ???\n",
    "listLetters # ['A', 'b', 'C', 'd', 'E', 3, 4, 5] What happened?\n",
    "# list0.append(1000.0)\n",
    "# list0 # ['A', 'b', 'C', 'd', 'E', 3, 4, 5, 1000.0]\n",
    "# listLetters # ['A', 'b', 'C', 'd', 'E', 3, 4, 5, 1000.0] ???\n",
    "# listNumbers # [1, 2, 3, 4, 5, 6, 7, 8, 9, 0] OK!"
   ]
  },
  {
   "cell_type": "code",
   "execution_count": 2,
   "metadata": {},
   "outputs": [
    {
     "data": {
      "text/plain": [
       "['Fly', 'robin', 'fly', 'Up', 'up', 'to', 'the', 'sky']"
      ]
     },
     "execution_count": 2,
     "metadata": {},
     "output_type": "execute_result"
    }
   ],
   "source": [
    "words = ['Fly', 'robin', 'fly', 'Up', 'up', 'to', 'the', 'sky']\n",
    "words.index('up')\n",
    "w = []\n",
    "w.extend(words[0:3])\n",
    "w\n",
    "['Fly', 'robin', 'fly']\n",
    "words.insert(3,w)\n",
    "words\n",
    "# ['Fly', 'robin', 'fly', ['Fly', 'robin', 'fly'], 'Up', 'up', 'to', 'the', 'sky']\n",
    "words.remove(w)\n",
    "words\n",
    "# ['Fly', 'robin', 'fly', 'Up', 'up', 'to', 'the', 'sky']\n",
    "# words.insert(3,'Fly')\n",
    "# words\n",
    "# ['Fly', 'robin', 'fly', 'Fly', 'Up', 'up', 'to', 'the', ‘sky']\n",
    "# del words[3] # del function\n",
    "# words"
   ]
  },
  {
   "cell_type": "code",
   "execution_count": 8,
   "metadata": {},
   "outputs": [
    {
     "data": {
      "text/plain": [
       "['Fly', 'robin', 'fly', 'Fly', 'robin', 'fly', 'Up', 'up', 'to', 'the', 'sky']"
      ]
     },
     "execution_count": 8,
     "metadata": {},
     "output_type": "execute_result"
    }
   ],
   "source": [
    "words = ['Fly', 'robin', 'fly', 'Up', 'up', 'to', 'the', 'sky']\n",
    "w = []\n",
    "w.extend(words[0:3])\n",
    "w.extend(words[:])\n",
    "words=w\n",
    "words"
   ]
  },
  {
   "cell_type": "code",
   "execution_count": 9,
   "metadata": {},
   "outputs": [],
   "source": [
    "def Stack_LIFO(prompt=' Push to Stack (type null if done): '):\n",
    "    stack = []\n",
    "    while True:\n",
    "        top = input(prompt)\n",
    "        if top in ('n', 'nu', 'nul', 'null'):\n",
    "            break\n",
    "        else:\n",
    "            stack.append(top)\n",
    "    print('\\n Within Stack: ', stack, end='\\n\\n')\n",
    "    print(' <<< Pop the Stack --> LIFO : Last-In-First-Out ')\n",
    "    num=len(stack)\n",
    "    for top in range(num): # Could we use \"for top in stack:\" instead?\n",
    "        print(' pop Stack : ', stack.pop())\n",
    "    print('\\n ******* Stack = ', stack)"
   ]
  },
  {
   "cell_type": "code",
   "execution_count": 10,
   "metadata": {},
   "outputs": [
    {
     "name": "stdout",
     "output_type": "stream",
     "text": [
      " Push to Stack (type null if done): a\n",
      " Push to Stack (type null if done): b\n",
      " Push to Stack (type null if done): c\n",
      " Push to Stack (type null if done): d\n",
      " Push to Stack (type null if done): e\n",
      " Push to Stack (type null if done): n\n",
      "\n",
      " Within Stack:  ['a', 'b', 'c', 'd', 'e']\n",
      "\n",
      " <<< Pop the Stack --> LIFO : Last-In-First-Out \n",
      " pop Stack :  e\n",
      " pop Stack :  d\n",
      " pop Stack :  c\n",
      " pop Stack :  b\n",
      " pop Stack :  a\n",
      "\n",
      " ******* Stack =  []\n"
     ]
    }
   ],
   "source": [
    "Stack_LIFO()"
   ]
  },
  {
   "cell_type": "code",
   "execution_count": 11,
   "metadata": {},
   "outputs": [],
   "source": [
    "def Queue_FIFO(prompt=' Push to Queue (type null if done): '):\n",
    "    queue = []\n",
    "    while True:\n",
    "        top = input(prompt)\n",
    "        if top in ('n', 'nu', 'nul', 'null'):\n",
    "            break\n",
    "        else:\n",
    "            queue.append(top)\n",
    "    print('\\n Within Queue: ', queue, end='\\n\\n')\n",
    "    print(' <<< Pop the Stack --> LIFO : Last-In-First-Out ')\n",
    "    for top in queue[:]: # Could we use \"for top in stack:\" instead?\n",
    "        print(' pop(0) Queue : ', queue.pop(0))\n",
    "    print('\\n ******* Queue = ',queue)"
   ]
  },
  {
   "cell_type": "code",
   "execution_count": 12,
   "metadata": {},
   "outputs": [
    {
     "name": "stdout",
     "output_type": "stream",
     "text": [
      " Push to Queue (type null if done): a\n",
      " Push to Queue (type null if done): b\n",
      " Push to Queue (type null if done): c\n",
      " Push to Queue (type null if done): d\n",
      " Push to Queue (type null if done): e\n",
      " Push to Queue (type null if done): n\n",
      "\n",
      " Within Queue:  ['a', 'b', 'c', 'd', 'e']\n",
      "\n",
      " <<< Pop the Stack --> LIFO : Last-In-First-Out \n",
      " pop(0) Queue :  a\n",
      " pop(0) Queue :  b\n",
      " pop(0) Queue :  c\n",
      " pop(0) Queue :  d\n",
      " pop(0) Queue :  e\n",
      "\n",
      " ******* Queue =  []\n"
     ]
    }
   ],
   "source": [
    "Queue_FIFO()"
   ]
  },
  {
   "cell_type": "code",
   "execution_count": 13,
   "metadata": {},
   "outputs": [],
   "source": [
    "def list_Compreh():\n",
    "    A = [2*n+1 for n in range(1,10)]\n",
    "    B = [x**2 for x in A if x < 12]\n",
    "    print(A) # [3, 5, 7, 9, 11, 13, 15, 17, 19]\n",
    "    print(B) # [9, 25, 49, 81, 121]"
   ]
  },
  {
   "cell_type": "code",
   "execution_count": 14,
   "metadata": {},
   "outputs": [
    {
     "name": "stdout",
     "output_type": "stream",
     "text": [
      "[3, 5, 7, 9, 11, 13, 15, 17, 19]\n",
      "[9, 25, 49, 81, 121]\n"
     ]
    }
   ],
   "source": [
    "list_Compreh()"
   ]
  },
  {
   "cell_type": "code",
   "execution_count": 15,
   "metadata": {},
   "outputs": [
    {
     "name": "stdout",
     "output_type": "stream",
     "text": [
      "[('Apple', 'Google'), ('Apple', 'Microsoft'), ('Android', 'Google'), ('Android', 'Apple'), ('Android', 'Microsoft'), ('Asus', 'Google'), ('Asus', 'Apple'), ('Asus', 'Microsoft')]\n"
     ]
    }
   ],
   "source": [
    "C=[(i,j) for i in ['Apple', 'Android', 'Asus'] for j in ['Google','Apple', 'Microsoft'] if i != j]\n",
    "print(C)"
   ]
  },
  {
   "cell_type": "code",
   "execution_count": 16,
   "metadata": {},
   "outputs": [
    {
     "data": {
      "text/plain": [
       "['2.7', '2.72', '2.718', '2.7183', '2.71828']"
      ]
     },
     "execution_count": 16,
     "metadata": {},
     "output_type": "execute_result"
    }
   ],
   "source": [
    "from math import exp\n",
    "[str(round(exp(1), i)) for i in range(1, 6)]"
   ]
  },
  {
   "cell_type": "code",
   "execution_count": 23,
   "metadata": {},
   "outputs": [
    {
     "data": {
      "text/plain": [
       "[314.2, 314.16, 314.159, 314.1593, 314.15927]"
      ]
     },
     "execution_count": 23,
     "metadata": {},
     "output_type": "execute_result"
    }
   ],
   "source": [
    "from math import pi\n",
    "# print(pi)\n",
    "[float(round(pi*10**2, i)) for i in range(1, 6)]"
   ]
  },
  {
   "cell_type": "code",
   "execution_count": 29,
   "metadata": {
    "scrolled": true
   },
   "outputs": [
    {
     "data": {
      "text/plain": [
       "[(1, 4, 2.5),\n",
       " (1, 2, 1.5),\n",
       " (3, 4, 3.5),\n",
       " (3, 1, 2.0),\n",
       " (3, 2, 2.5),\n",
       " (5, 4, 4.5),\n",
       " (5, 1, 3.0),\n",
       " (5, 2, 3.5)]"
      ]
     },
     "execution_count": 29,
     "metadata": {},
     "output_type": "execute_result"
    }
   ],
   "source": [
    "pairs=[(i,j,(i+j)/2) for i in [1,3,5] for j in [4,1,2] if i!=j]\n",
    "pairs"
   ]
  },
  {
   "cell_type": "code",
   "execution_count": 31,
   "metadata": {},
   "outputs": [
    {
     "name": "stdout",
     "output_type": "stream",
     "text": [
      "[2, 3, 5, 7, 11, 13, 17, 19, 23, 29, 31, 37, 41, 43, 47, 53, 59, 61, 67, 71, 73, 79, 83, 89, 97]\n"
     ]
    }
   ],
   "source": [
    "p=[x for x in range(2, 100) if x not in (j for i in range(2, 11) for j in range(i*2, 100, i))]\n",
    "print(p)"
   ]
  },
  {
   "cell_type": "code",
   "execution_count": 49,
   "metadata": {},
   "outputs": [],
   "source": [
    "def prime_number():\n",
    "    p=[]\n",
    "    for x in range(2, 100):\n",
    "#         for i in range(2, 11):\n",
    "#             for j in range(i*2, 100, i):\n",
    "#                 if  x!=j:\n",
    "#                     print(x)\n",
    "#                     p.append(x)\n",
    "        if x not in (j for i in range(2, 11) for j in range(i*2, 100, i)):\n",
    "            p.append(x)\n",
    "    print(p)"
   ]
  },
  {
   "cell_type": "code",
   "execution_count": 50,
   "metadata": {},
   "outputs": [
    {
     "name": "stdout",
     "output_type": "stream",
     "text": [
      "[2, 3, 5, 7, 11, 13, 17, 19, 23, 29, 31, 37, 41, 43, 47, 53, 59, 61, 67, 71, 73, 79, 83, 89, 97]\n"
     ]
    }
   ],
   "source": [
    "prime_number()"
   ]
  },
  {
   "cell_type": "code",
   "execution_count": null,
   "metadata": {},
   "outputs": [],
   "source": [
    "n=20\n",
    "def prime_number():\n",
    "    p=[]\n",
    "    for i in range(n):\n",
    "        p.append(n)\n",
    "        "
   ]
  }
 ],
 "metadata": {
  "kernelspec": {
   "display_name": "Python 3",
   "language": "python",
   "name": "python3"
  },
  "language_info": {
   "codemirror_mode": {
    "name": "ipython",
    "version": 3
   },
   "file_extension": ".py",
   "mimetype": "text/x-python",
   "name": "python",
   "nbconvert_exporter": "python",
   "pygments_lexer": "ipython3",
   "version": "3.7.4"
  }
 },
 "nbformat": 4,
 "nbformat_minor": 2
}
