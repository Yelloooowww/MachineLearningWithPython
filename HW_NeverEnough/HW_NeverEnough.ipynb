{
 "cells": [
  {
   "cell_type": "code",
   "execution_count": 4,
   "metadata": {},
   "outputs": [],
   "source": [
    "lyric = [\"I'm trying to hold my breath\",\n",
    "          \"Let it stay this way\",\n",
    "          \"Can't let this moment end\",\n",
    "          \"You set off a dream with me\",\n",
    "          \"Getting louder now\",\n",
    "          \"Can you hear it echoing?\",\n",
    "          \"Take my hand\",\n",
    "          \"Will you share this with me?\",\n",
    "          \"'Cause darling without you\",\n",
    "          \"All the shine of a thousand spotlights\",\n",
    "          \"All the stars we steal from the nightsky\",\n",
    "          \"Will never be enough\",\n",
    "          \"Never be enough\",\n",
    "          \"Towers of gold are still too little\",\n",
    "          \"These hands could hold the world but it'll\",\n",
    "          \"Never be enough\", \"For me\",\n",
    "          \"Never, never\", \"Never, for me\",\n",
    "          \"Never enough\", \"For me\"]\n",
    "\n",
    "def Q1():\n",
    "    for verse in ['--- << Never Enough 2 >> ---']+lyric[:-7]+[lyric[i] for i in [-6,-6,-5,-4,-4,-3,-2,-2,-2,-1,-1,-1,-1]]:\n",
    "        print(verse, end='\\n')\n",
    "\n",
    "def Q2():\n",
    "    word_count_dic={i:0 for i in set([k.rstrip(',') for k in [j.rstrip('?') for i in [verse.split(\" \") for verse in lyric] for j in i]])}\n",
    "    for i in [k.rstrip(',') for k in [j.rstrip('?') for i in [verse.split(\" \") for verse in lyric] for j in i]]:\n",
    "        word_count_dic[i]+=1\n",
    "    for i in sorted(word_count_dic.keys()):\n",
    "        print(format(i,'10s'),word_count_dic[i])"
   ]
  },
  {
   "cell_type": "code",
   "execution_count": 5,
   "metadata": {},
   "outputs": [
    {
     "name": "stdout",
     "output_type": "stream",
     "text": [
      "--- << Never Enough 2 >> ---\n",
      "I'm trying to hold my breath\n",
      "Let it stay this way\n",
      "Can't let this moment end\n",
      "You set off a dream with me\n",
      "Getting louder now\n",
      "Can you hear it echoing?\n",
      "Take my hand\n",
      "Will you share this with me?\n",
      "'Cause darling without you\n",
      "All the shine of a thousand spotlights\n",
      "All the stars we steal from the nightsky\n",
      "Will never be enough\n",
      "Never be enough\n",
      "Towers of gold are still too little\n",
      "Never be enough\n",
      "Never be enough\n",
      "For me\n",
      "Never, never\n",
      "Never, never\n",
      "Never, for me\n",
      "Never enough\n",
      "Never enough\n",
      "Never enough\n",
      "For me\n",
      "For me\n",
      "For me\n",
      "For me\n"
     ]
    }
   ],
   "source": [
    "Q1()"
   ]
  },
  {
   "cell_type": "code",
   "execution_count": 6,
   "metadata": {},
   "outputs": [
    {
     "name": "stdout",
     "output_type": "stream",
     "text": [
      "'Cause     1\n",
      "All        2\n",
      "Can        1\n",
      "Can't      1\n",
      "For        2\n",
      "Getting    1\n",
      "I'm        1\n",
      "Let        1\n",
      "Never      5\n",
      "Take       1\n",
      "These      1\n",
      "Towers     1\n",
      "Will       2\n",
      "You        1\n",
      "a          2\n",
      "are        1\n",
      "be         3\n",
      "breath     1\n",
      "but        1\n",
      "could      1\n",
      "darling    1\n",
      "dream      1\n",
      "echoing    1\n",
      "end        1\n",
      "enough     4\n",
      "for        1\n",
      "from       1\n",
      "gold       1\n",
      "hand       1\n",
      "hands      1\n",
      "hear       1\n",
      "hold       2\n",
      "it         2\n",
      "it'll      1\n",
      "let        1\n",
      "little     1\n",
      "louder     1\n",
      "me         5\n",
      "moment     1\n",
      "my         2\n",
      "never      2\n",
      "nightsky   1\n",
      "now        1\n",
      "of         2\n",
      "off        1\n",
      "set        1\n",
      "share      1\n",
      "shine      1\n",
      "spotlights 1\n",
      "stars      1\n",
      "stay       1\n",
      "steal      1\n",
      "still      1\n",
      "the        4\n",
      "this       3\n",
      "thousand   1\n",
      "to         1\n",
      "too        1\n",
      "trying     1\n",
      "way        1\n",
      "we         1\n",
      "with       2\n",
      "without    1\n",
      "world      1\n",
      "you        3\n"
     ]
    }
   ],
   "source": [
    "Q2()"
   ]
  },
  {
   "cell_type": "code",
   "execution_count": null,
   "metadata": {},
   "outputs": [],
   "source": []
  }
 ],
 "metadata": {
  "kernelspec": {
   "display_name": "Python 3",
   "language": "python",
   "name": "python3"
  },
  "language_info": {
   "codemirror_mode": {
    "name": "ipython",
    "version": 3
   },
   "file_extension": ".py",
   "mimetype": "text/x-python",
   "name": "python",
   "nbconvert_exporter": "python",
   "pygments_lexer": "ipython3",
   "version": "3.7.4"
  }
 },
 "nbformat": 4,
 "nbformat_minor": 2
}
