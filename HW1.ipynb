{
 "cells": [
  {
   "cell_type": "markdown",
   "metadata": {},
   "source": [
    "[Ex.1]:請撰寫 Python 程式完成下列列⼯工作，並且輸出結果：\n",
    "(1) 利利⽤用 ⼆二元搜尋演算法 (binary search algorithm)，計算 a 的平⽅方根 (亦即，\n",
    "a0.5 ，精確⾄至⼩小數點後第五位，其中 a > 0 )。\n",
    "(2) 承上題，利利⽤用 ⼆二元搜尋演算法，計算 a 的任意次⽅方根值 (亦即， ax ，精確⾄至⼩小數\n",
    "點後第五位，其中 a > 0 ，x )。\n",
    "(3) 承上題，利利⽤用 上題的程式，計算 1,000,000,000 的 100 次⽅方根值 (亦即，\n",
    "1,000,000,000 1/100 ，精確⾄至⼩小數點後第五位 )。 [ Hint : answer = 1.23027 ]\n",
    "如果程式無法執⾏行行，應該如何修改程式求解呢？"
   ]
  },
  {
   "cell_type": "code",
   "execution_count": null,
   "metadata": {
    "scrolled": true
   },
   "outputs": [],
   "source": [
    "a=float(input(\"Enter a number: \"))\n",
    "up=a\n",
    "down=0\n",
    "while abs(up-down)>0.000001:\n",
    "    middle=(up+down)/2\n",
    "    if middle*middle>a:\n",
    "        up=middle\n",
    "    else:\n",
    "        down=middle\n",
    "print('a=',a,';    a^0.5=',middle)    \n"
   ]
  },
  {
   "cell_type": "code",
   "execution_count": null,
   "metadata": {},
   "outputs": [],
   "source": [
    "a=float(input(\"Enter a number: \"))\n",
    "x=float(input(\"Enter a number: \"))\n",
    "if x<=1:\n",
    "    up=a\n",
    "    down=0\n",
    "else:\n",
    "    tmp=1\n",
    "    for i in range(int(x)+1):\n",
    "        tmp=tmp*a\n",
    "        if i==int(x)-1:\n",
    "            down=tmp\n",
    "        elif i==int(x):   \n",
    "            up=tmp\n",
    "            \n",
    "while abs(up-down)>0.000001:\n",
    "    middle=(up+down)/2\n",
    "    n=1/x\n",
    "    if middle**n>a:\n",
    "        up=middle\n",
    "    else:\n",
    "        down=middle         \n",
    "print(middle) "
   ]
  },
  {
   "cell_type": "code",
   "execution_count": null,
   "metadata": {},
   "outputs": [],
   "source": [
    "import decimal\n",
    "\n",
    "a=decimal.Decimal(1000000000)\n",
    "# x=decimal.Decimal(1/100)\n",
    "# x=1/100\n",
    "up=a\n",
    "down=decimal.Decimal(0)\n",
    "while abs(up-down)>0.000001:\n",
    "    middle=(up+down)/2\n",
    "    if middle**100>a:  \n",
    "#     if a**0.01 <middle:    \n",
    "        up=middle\n",
    "    else:\n",
    "        down=middle         \n",
    "print(middle) "
   ]
  },
  {
   "cell_type": "markdown",
   "metadata": {},
   "source": [
    "[Ex.2] : 黃⾦金金比例例 (Golden Ratio, ⼜又稱 黃⾦金金數，黃⾦金金分割率) 有不同的定義與計\n",
    "算⽅方式，⼀一般可經由下列列公式計算其精確值：\n",
    "(1+5^0.5)/2= 1.618033988749894….\n",
    "或者，可以利利⽤用費波那契數列列 (Fibonacci numbers) 中，連續⼆二數的比值來來趨近黃\n",
    "⾦金金比例例，如下：\n",
    "F0 = 1, F1 = 1, F2 = 2, F3 = 3, F4 = 5, F5 = 8, F6 = 13, F7 = 21, … …\n",
    "=> F1 / F0 = 1, F2 / F1 = 2, F3 / F2 = 1.5, F4 / F3 = 1.66666…,\n",
    "F5 / F4 = 1.6, F6 / F5 = 1.625, F7 / F6 = 1.61538… , … …\n",
    "=> Fn+1 / Fn —> 1.618033988749894…. , as n —> infinity\n",
    "請撰寫 Python 程式完成下列列⼯工作，並且輸出結果：\n",
    "(1) 請找出 費波那契數列列 中，連續⼆二數的比值，⾸首次出現 黃⾦金金比例例值 精確⾄至⼩小數點\n",
    "後第 20 位。亦即，輸出該連續⼆二費波那契數。\n",
    "(2) 承上題，其比值是多少？"
   ]
  },
  {
   "cell_type": "code",
   "execution_count": null,
   "metadata": {
    "scrolled": true
   },
   "outputs": [],
   "source": [
    "ans=(1+5**0.5)/2\n",
    "print(ans)\n",
    "F=[1,1]\n",
    "tmp=1\n",
    "while abs(tmp-ans)>10**(-20):\n",
    "    F.insert(len(F), F[len(F)-2]+F[len(F)-1])\n",
    "    tmp=F[len(F)-1]/F[len(F)-2]\n",
    "\n",
    "print(F[len(F)-1],'/',F[len(F)-2],'=',F[len(F)-1]/F[len(F)-2])\n",
    "    \n",
    "\n"
   ]
  },
  {
   "cell_type": "code",
   "execution_count": null,
   "metadata": {},
   "outputs": [],
   "source": []
  }
 ],
 "metadata": {
  "kernelspec": {
   "display_name": "Python 3",
   "language": "python",
   "name": "python3"
  },
  "language_info": {
   "codemirror_mode": {
    "name": "ipython",
    "version": 3
   },
   "file_extension": ".py",
   "mimetype": "text/x-python",
   "name": "python",
   "nbconvert_exporter": "python",
   "pygments_lexer": "ipython3",
   "version": "3.7.4"
  }
 },
 "nbformat": 4,
 "nbformat_minor": 2
}
