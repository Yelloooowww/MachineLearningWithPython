{
 "cells": [
  {
   "cell_type": "markdown",
   "metadata": {},
   "source": [
    "(1)請找出 1 ~ 100 之間的 “質數(prime number)”。"
   ]
  },
  {
   "cell_type": "code",
   "execution_count": 44,
   "metadata": {
    "scrolled": true
   },
   "outputs": [
    {
     "name": "stdout",
     "output_type": "stream",
     "text": [
      "input N:30\n",
      "[2, 3, 5, 7, 11, 13, 17, 19, 23, 29]\n"
     ]
    }
   ],
   "source": [
    "# Thm:「若N是合數，其必定會有至少一個因數<= N^0.5」\n",
    "n=int(input('input N:'))\n",
    "prime=[]\n",
    "flag=1\n",
    "for i in range(2,n+1,1):\n",
    "    flag=1\n",
    "    for j in range(2,int(i**0.5)+1,1):\n",
    "        if i%j==0:\n",
    "#             print(i,'is not a prime num')\n",
    "            flag=0\n",
    "            break\n",
    "    if flag==1:\n",
    "#         print(i,'is a prime num')\n",
    "        prime.append(i)\n",
    "\n",
    "print(prime)"
   ]
  },
  {
   "cell_type": "markdown",
   "metadata": {},
   "source": [
    "(2)之後，利利⽤用 list comprehension 表⽰示⽅方式，簡化程式。"
   ]
  },
  {
   "cell_type": "code",
   "execution_count": 43,
   "metadata": {},
   "outputs": [
    {
     "name": "stdout",
     "output_type": "stream",
     "text": [
      "input N:30\n",
      "[2, 3, 5, 7, 11, 13, 17, 19, 23, 29]\n"
     ]
    }
   ],
   "source": [
    "n=int(input('input N:'))\n",
    "not_prime=[i for i in range(2,n+1,1) for j in range(2,int(i**0.5)+1,1) if i%j==0]\n",
    "primeNUM=[i for i in range(2,n+1,1) if i not in not_prime]\n",
    "print(primeNUM)"
   ]
  }
 ],
 "metadata": {
  "kernelspec": {
   "display_name": "Python 3",
   "language": "python",
   "name": "python3"
  },
  "language_info": {
   "codemirror_mode": {
    "name": "ipython",
    "version": 3
   },
   "file_extension": ".py",
   "mimetype": "text/x-python",
   "name": "python",
   "nbconvert_exporter": "python",
   "pygments_lexer": "ipython3",
   "version": "3.7.4"
  }
 },
 "nbformat": 4,
 "nbformat_minor": 2
}
