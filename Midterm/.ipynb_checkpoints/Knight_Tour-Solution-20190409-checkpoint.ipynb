{
 "cells": [
  {
   "cell_type": "markdown",
   "metadata": {},
   "source": [
    "## Knight's Tour Problem - WARNSDORFF algorithm with dynamic degree-updating"
   ]
  },
  {
   "cell_type": "code",
   "execution_count": 1,
   "metadata": {},
   "outputs": [
    {
     "name": "stdout",
     "output_type": "stream",
     "text": [
      "2 3 4 4 4 4 3 2\n",
      "3 4 6 6 6 6 4 3\n",
      "4 6 8 8 8 8 6 4\n",
      "4 6 8 8 8 8 6 4\n",
      "4 6 8 8 8 8 6 4\n",
      "4 6 8 8 8 8 6 4\n",
      "3 4 6 6 6 6 4 3\n",
      "2 3 4 4 4 4 3 2\n",
      "(1, -2) (2, -1) (2, 1) (1, 2) (-1, 2) (-2, 1) (-2, -1) (-1, -2) \n",
      "\n",
      "  1  26  15  24  29  36  13  32\n",
      " 16  23  28  35  14  31  40  37\n",
      " 27   2  25  30  61  38  33  12\n",
      " 22  17  62  45  34  41  50  39\n",
      "  3  46  21  60  49  64  11  42\n",
      " 18  57  48  63  44  53   8  51\n",
      " 47   4  55  20  59   6  43  10\n",
      " 56  19  58   5  54   9  52   7\n"
     ]
    }
   ],
   "source": [
    "# Knight's Tour Problem - WARNSDORFF algorithm with dynamic degree-updating\n",
    "def knightTour(ni, nj, xi, xj):\n",
    "    # Creating a degree map by the WARNSDORFF rules...\n",
    "    degree_map = [2,3,4,4,4,4,3,2,\n",
    "                  3,4,6,6,6,6,4,3,\n",
    "                  4,6,8,8,8,8,6,4,\n",
    "                  4,6,8,8,8,8,6,4,\n",
    "                  4,6,8,8,8,8,6,4,\n",
    "                  4,6,8,8,8,8,6,4,\n",
    "                  3,4,6,6,6,6,4,3,\n",
    "                  2,3,4,4,4,4,3,2]\n",
    "    # knight_map = degree_map\n",
    "    \n",
    "    for i in range(ni*nj):\n",
    "        if i%8 < 7:\n",
    "            print(degree_map[i], end=' ')\n",
    "        else: \n",
    "            print(degree_map[i])\n",
    "\n",
    "    # Creating the 8 possible moves...\n",
    "    eight_moves = [(1,-2),(2,-1),(2,1),(1,2),(-1,2),(-2,1),(-2,-1),(-1,-2)]\n",
    "    for i in range(8):\n",
    "        print(eight_moves[i], end=' ')\n",
    "    print('\\n')\n",
    "    \n",
    "    # Initiating the start position of Knight...\n",
    "    knight_move = ni*nj\n",
    "\n",
    "    # Looping for finding the Hamiltonian Path for Knight’s Tour...\n",
    "    for _ in range(knight_move-1):\n",
    "        if knight_move == ni*nj:\n",
    "            degree_map[xi*8+xj] = knight_move\n",
    "\n",
    "        # Checking if the moves within the board boundaries or not...\n",
    "        OK_moves = []\n",
    "        for i in range(8):\n",
    "            (test_i, test_j) = (xi + eight_moves[i][0], xj + eight_moves[i][1])\n",
    "            if test_i >= 0 and test_j >= 0 and test_i <= 7 and test_j <= 7:\n",
    "                OK_moves.append((test_i, test_j))\n",
    "        # print(OK_moves)\n",
    "\n",
    "        # Finding the next position for Knight's movement...\n",
    "        count = 0\n",
    "        for ti,tj in OK_moves:\n",
    "            # print(degree_map[ti*8+tj], end=' ')\n",
    "            if degree_map[ti*8+tj] >= ni*nj:\n",
    "                continue\n",
    "            elif count == 0:\n",
    "                temp = ti, tj, degree_map[ti*8+tj]\n",
    "                count += 1\n",
    "            elif degree_map[ti*8+tj] < temp[2]:\n",
    "                temp = ti, tj, degree_map[ti*8+tj]\n",
    "        # print(temp)\n",
    "        \n",
    "        # Updating the degree map and the new move...\n",
    "        for ti,tj in OK_moves:\n",
    "            if degree_map[ti*8+tj] >= ni*nj:\n",
    "                continue\n",
    "            else: \n",
    "                degree_map[ti*8+tj] -= 1\n",
    "\n",
    "        knight_move += 1\n",
    "        degree_map[temp[0]*8+temp[1]] = knight_move\n",
    "        xi, xj = temp[0], temp[1]\n",
    "        # print(degree_map[temp[0]*8+temp[1]], xi, xj, temp[2])\n",
    "    \n",
    "    # Print out the Hamiltonian Path for Knight’s Tour...\n",
    "    for i in range(ni*nj):\n",
    "        if i%8 < 7:\n",
    "            print('{0:3d}'.format(degree_map[i]-ni*nj+1), end=' ')\n",
    "        else: \n",
    "            print('{0:3d}'.format(degree_map[i]-ni*nj+1))    \n",
    "\n",
    "\n",
    "knightTour(8,8,0,0)"
   ]
  },
  {
   "cell_type": "code",
   "execution_count": null,
   "metadata": {},
   "outputs": [],
   "source": []
  }
 ],
 "metadata": {
  "kernelspec": {
   "display_name": "Python 3",
   "language": "python",
   "name": "python3"
  },
  "language_info": {
   "codemirror_mode": {
    "name": "ipython",
    "version": 3
   },
   "file_extension": ".py",
   "mimetype": "text/x-python",
   "name": "python",
   "nbconvert_exporter": "python",
   "pygments_lexer": "ipython3",
   "version": "3.7.4"
  }
 },
 "nbformat": 4,
 "nbformat_minor": 2
}
